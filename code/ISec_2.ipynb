{
  "cells": [
    {
      "cell_type": "code",
      "execution_count": 4,
      "metadata": {
        "colab": {
          "base_uri": "https://localhost:8080/"
        },
        "id": "QX2rwpLABmDi",
        "outputId": "bc39b3da-641c-4210-e6a5-26838936d417"
      },
      "outputs": [
        {
          "output_type": "stream",
          "name": "stdout",
          "text": [
            "Looking in indexes: https://pypi.org/simple, https://us-python.pkg.dev/colab-wheels/public/simple/\n",
            "Collecting pyaes\n",
            "  Downloading pyaes-1.6.1.tar.gz (28 kB)\n",
            "Building wheels for collected packages: pyaes\n",
            "  Building wheel for pyaes (setup.py) ... \u001b[?25l\u001b[?25hdone\n",
            "  Created wheel for pyaes: filename=pyaes-1.6.1-py3-none-any.whl size=26363 sha256=9208e9d97d938bd00926388dd18d41835891154f2c04d96c4867314716c42a4d\n",
            "  Stored in directory: /root/.cache/pip/wheels/aa/ca/9c/8a3c00512585c703edc457db81c066b9609d76758c74f72ac6\n",
            "Successfully built pyaes\n",
            "Installing collected packages: pyaes\n",
            "Successfully installed pyaes-1.6.1\n"
          ]
        }
      ],
      "source": [
        "pip install pyaes"
      ]
    },
    {
      "cell_type": "code",
      "execution_count": 5,
      "metadata": {
        "colab": {
          "base_uri": "https://localhost:8080/"
        },
        "id": "FoEDqLIkBrja",
        "outputId": "0c9beeab-7c10-4412-a50b-cdea82bdcd4e"
      },
      "outputs": [
        {
          "output_type": "stream",
          "name": "stdout",
          "text": [
            "Looking in indexes: https://pypi.org/simple, https://us-python.pkg.dev/colab-wheels/public/simple/\n",
            "Collecting pbkdf2\n",
            "  Downloading pbkdf2-1.3.tar.gz (6.4 kB)\n",
            "Building wheels for collected packages: pbkdf2\n",
            "  Building wheel for pbkdf2 (setup.py) ... \u001b[?25l\u001b[?25hdone\n",
            "  Created wheel for pbkdf2: filename=pbkdf2-1.3-py3-none-any.whl size=5101 sha256=299daed3cbeb2667773ec03b2189785d88dbec5cd9554e1a6b7accd05a8cf0e3\n",
            "  Stored in directory: /root/.cache/pip/wheels/8a/bc/b5/384fdb7fc125e4d3d25b92eb8365b87c8b652a7096fcdcc16e\n",
            "Successfully built pbkdf2\n",
            "Installing collected packages: pbkdf2\n",
            "Successfully installed pbkdf2-1.3\n"
          ]
        }
      ],
      "source": [
        "pip install pbkdf2"
      ]
    },
    {
      "cell_type": "markdown",
      "metadata": {
        "id": "VZ3ygXdoBuZy"
      },
      "source": [
        "# **Import Libriries**"
      ]
    },
    {
      "cell_type": "code",
      "source": [
        "from google.colab import drive\n",
        "drive.mount('/content/drive')"
      ],
      "metadata": {
        "colab": {
          "base_uri": "https://localhost:8080/"
        },
        "id": "vpRqqgEg0cc-",
        "outputId": "d6de2a80-115e-4ca5-ef9b-13335dc78ac9"
      },
      "execution_count": 2,
      "outputs": [
        {
          "output_type": "stream",
          "name": "stdout",
          "text": [
            "Drive already mounted at /content/drive; to attempt to forcibly remount, call drive.mount(\"/content/drive\", force_remount=True).\n"
          ]
        }
      ]
    },
    {
      "cell_type": "code",
      "execution_count": 3,
      "metadata": {
        "id": "fvwWqNDSBzSV"
      },
      "outputs": [],
      "source": [
        "import pyaes\n",
        "import pbkdf2\n",
        "\n",
        "import binascii\n",
        "import secrets\n",
        "import os"
      ]
    },
    {
      "cell_type": "markdown",
      "metadata": {
        "id": "73yymBdWB8qN"
      },
      "source": [
        "# **CODE**"
      ]
    },
    {
      "cell_type": "code",
      "execution_count": null,
      "metadata": {
        "id": "EtJjEquZB1hb"
      },
      "outputs": [],
      "source": [
        "# salt = os.urandom(16)\n",
        "# key = pbkdf2.PBKDF2(\"AUT*ICTSec*2022\", salt).read(32)"
      ]
    },
    {
      "cell_type": "code",
      "execution_count": null,
      "metadata": {
        "id": "sPeosVl9CNvj"
      },
      "outputs": [],
      "source": [
        "# iv = secrets.randbits(256)\n",
        "\n",
        "# aes = pyaes.AESModeOfOperationCTR(key,  pyaes.Counter(iv))\n",
        "# aes2 = pyaes.AESModeOfOperationCTR(key, pyaes.Counter(iv))"
      ]
    },
    {
      "cell_type": "code",
      "execution_count": null,
      "metadata": {
        "colab": {
          "base_uri": "https://localhost:8080/"
        },
        "id": "Qr6ereg2CveU",
        "outputId": "4e93b182-5d02-4bf8-e846-60692fe331e7"
      },
      "outputs": [
        {
          "metadata": {
            "tags": null
          },
          "name": "stdout",
          "output_type": "stream",
          "text": [
            "--------------------------------------------------\n",
            "--------------------------------------------------\n",
            "Encryption\n",
            "Algorithm key: b'9ea02d16dd9cc9c1185f54f0e02096896e75ea9ecf3111f807716dd091268fd5'\n",
            "Encrypted Text: b'c41c1aa50f4a86'\n",
            "--------------------------------------------------\n",
            "--------------------------------------------------\n",
            "Decryption\n",
            "Algorithm key: b'9ea02d16dd9cc9c1185f54f0e02096896e75ea9ecf3111f807716dd091268fd5'\n",
            "Decrypted Text: b'9831106'\n",
            "--------------------------------------------------\n"
          ]
        }
      ],
      "source": [
        "while(True):\n",
        " # \n",
        " print('--------------------------------------------------')\n",
        " enter = input(\"Choose E for Encryption and D for Decryption:   \")  \n",
        " print('--------------------------------------------------')\n",
        " if enter == \"E\":\n",
        "      print(\"Encryption\") \n",
        "      file = open(\"Key.txt\", \"r\") # open the file in read mode\n",
        "      encryptionKey = file.read() # read the file\n",
        "      salt = os.urandom(16) # generate a random 16 byte salt\n",
        "\n",
        "      key = pbkdf2.PBKDF2(encryptionKey, salt).read(32) # reduce the key to 32 bytes\n",
        "\n",
        "      print('Algorithm key:', binascii.hexlify(key)) # print the key\n",
        "\n",
        "      file = open(\"SaltedKey.txt\", \"w\") # open the file in write mode\n",
        "      TEXT = str(binascii.hexlify(key)).maketrans(\" \", \" \", \"'b\")  # remove the b and ' from the decrypted text   \n",
        "      file.writelines(str(binascii.hexlify(key)).translate(TEXT)) # write the reduced key to the file\n",
        "      file.close() # close the file\n",
        "\n",
        "      iv = secrets.randbits(256) # generate a random 256 bit number\n",
        "      aes = pyaes.AESModeOfOperationCTR(key,  pyaes.Counter(iv)) # create the AES object\n",
        "\n",
        "      file = open(\"PlainText.txt\", \"r\") # open the file in read mode\n",
        "      plaintext = file.read() # read the file\n",
        "      ciphertext = aes.encrypt(plaintext ) # encrypt the plaintext\n",
        "      print('Encrypted Text:', binascii.hexlify(ciphertext)) # print the ciphertext\n",
        "\n",
        "      file = open(\"Encrypted.txt\", \"w\") # open the file in write mode\n",
        "      TEXT = str(binascii.hexlify(ciphertext)).maketrans(\" \", \" \", \"'b\") # remove the b and ' from the ciphertext\n",
        "      file.writelines(str(binascii.hexlify(ciphertext)).translate(TEXT)) # write the ciphertext to the file\n",
        "      file.close() # close the file\n",
        "\n",
        " elif enter == \"D\":  \n",
        "      print(\"Decryption\")\n",
        "      print('Algorithm key:', binascii.hexlify(key)) # print the key\n",
        "      aes2 = pyaes.AESModeOfOperationCTR(key,  pyaes.Counter(iv)) # create the AES object\n",
        "      decrypted = aes2.decrypt(ciphertext) # decrypt the ciphertext\n",
        "      print('Decrypted Text:', decrypted) # print the decrypted text\n",
        "\n",
        "      plainText = str(decrypted).maketrans(\" \", \" \", \"'b\") # remove the b and ' from the decrypted text\n",
        "      plainText = str(decrypted).translate(plainText) # remove the b and ' from the decrypted text\n",
        "\n",
        "      file = open(\"Decrypted.txt\", \"w\") # open the file in write mode\n",
        "      file.writelines(plainText) # write the decrypted text to the file\n",
        "      file.close() # close the file\n",
        "        \n",
        " else:\n",
        "     print(\"Invalid Input\") "
      ]
    }
  ],
  "metadata": {
    "colab": {
      "provenance": []
    },
    "kernelspec": {
      "display_name": "Python 3.9.2 64-bit ('3.9.2')",
      "language": "python",
      "name": "python3"
    },
    "language_info": {
      "codemirror_mode": {
        "name": "ipython",
        "version": 3
      },
      "file_extension": ".py",
      "mimetype": "text/x-python",
      "name": "python",
      "nbconvert_exporter": "python",
      "pygments_lexer": "ipython3",
      "version": "3.9.2"
    },
    "vscode": {
      "interpreter": {
        "hash": "7f3a76d533059049b15914604546a865648245e92681e7a8f88c992885f41682"
      }
    }
  },
  "nbformat": 4,
  "nbformat_minor": 0
}